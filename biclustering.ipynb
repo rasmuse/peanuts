{
 "cells": [
  {
   "cell_type": "code",
   "execution_count": 85,
   "metadata": {
    "collapsed": false
   },
   "outputs": [
    {
     "data": {
      "image/png": "[encoded data removed]",
      "text/plain": [
       "<matplotlib.figure.Figure at 0x7f5c12555828>"
      ]
     },
     "metadata": {},
     "output_type": "display_data"
    }
   ],
   "source": [
    "import itertools\n",
    "import numpy as np\n",
    "import sklearn\n",
    "from sklearn.cluster.bicluster import SpectralBiclustering\n",
    "from matplotlib import pyplot as plt\n",
    "import pandas as pd\n",
    "import seaborn as sns\n",
    "sns.set_style('white')\n",
    "plt.rcParams['image.cmap'] = 'viridis'\n",
    "%matplotlib inline\n",
    "\n",
    "properties = ['salt', 'roast', 'grease', 'crunch']\n",
    "\n",
    "clusters = {\n",
    "    'more-is-more': [1., 1., 1., .1],\n",
    "    'natural': [0., 0.1, 0.1, 0.4],\n",
    "    'ok-but-too-salt': [0.8, 0.5, 0.5, .5],\n",
    "    'dry-and-soft': [0.5, 0.5, 0.1, 0.2]\n",
    "}\n",
    "\n",
    "M = 24\n",
    "N = 20\n",
    "\n",
    "def nut_generator(clusters):\n",
    "    cluster_names = list(clusters.keys())\n",
    "    while True:\n",
    "        name = np.random.choice(cluster_names)\n",
    "        yield (name, clusters[name] + 0 * np.random.random(len(properties)))\n",
    "\n",
    "ng = nut_generator(clusters)\n",
    "people_names_data = [next(ng) for i in range(M)]\n",
    "people_raw = np.stack(list(zip(*people_names_data))[1])\n",
    "nuts_names_data = [next(ng) for j in range(N)]\n",
    "nuts_raw = np.stack(list(zip(*nuts_names_data))[1])\n",
    "\n",
    "nuts = pd.DataFrame(nuts_raw, columns=properties, index=['N{}'.format(i+1) for i in range(len(nuts_raw))])\n",
    "\n",
    "def make_scores(people, nuts):\n",
    "    scores = np.zeros((M, N))\n",
    "    for (i, p), (j, n) in itertools.product(enumerate(people), enumerate(nuts)):\n",
    "        closeness = sum((p - n) ** 2)\n",
    "        scores[i, j] = closeness\n",
    "    return scores\n",
    "\n",
    "def fit_model(scores, n_clusters):\n",
    "    model = SpectralBiclustering(\n",
    "        n_clusters=n_clusters, method='log', random_state=0)\n",
    "    model.fit(scores)\n",
    "    return model\n",
    "\n",
    "def sort_scores(scores, model):\n",
    "    sorted_scores = scores[np.argsort(model.row_labels_)]\n",
    "    sorted_scores = sorted_scores[:, np.argsort(model.column_labels_)]\n",
    "    return sorted_scores\n",
    "    \n",
    "def simulate_and_plot(scores, n_clusters):\n",
    "    model = fit_model(scores, n_clusters)\n",
    "    sorted_scores = sort_scores(scores, model)\n",
    "\n",
    "    fig, ax = plt.subplots(1, 3, figsize=(8, 10))\n",
    "    ax[0].matshow(scores)\n",
    "    ax[1].matshow(sorted_scores)\n",
    "    \n",
    "    ax[2].matshow(np.outer(np.sort(model.row_labels_) + 1,\n",
    "                     np.sort(model.column_labels_) + 1))\n",
    "\n",
    "simulate_and_plot(make_scores(people_raw, nuts_raw), (4, 4))"
   ]
  },
  {
   "cell_type": "code",
   "execution_count": 95,
   "metadata": {
    "collapsed": false
   },
   "outputs": [
    {
     "data": {
      "text/plain": [
       "<matplotlib.axes._subplots.AxesSubplot at 0x7f5c10b5e668>"
      ]
     },
     "execution_count": 95,
     "metadata": {},
     "output_type": "execute_result"
    },
    {
     "data": {
      "image/png": "[encoded data removed]",
      "text/plain": [
       "<matplotlib.figure.Figure at 0x7f5c127ecc50>"
      ]
     },
     "metadata": {},
     "output_type": "display_data"
    }
   ],
   "source": [
    "m = fit_model(make_scores(people_raw, nuts_raw), (4, 4))\n",
    "fig, ax = plt.subplots(1, 1, figsize=(8,8))\n",
    "sns.matrix.heatmap(\n",
    "    pd.DataFrame(\n",
    "        sort_scores(make_scores(people_raw, nuts_raw), m),\n",
    "        columns=nuts.index[m.column_labels_],\n",
    "        index=sorted(m.row_labels_)),\n",
    "    ax=ax)"
   ]
  },
  {
   "cell_type": "code",
   "execution_count": 70,
   "metadata": {
    "collapsed": false
   },
   "outputs": [
    {
     "data": {
      "text/html": [
       "<div>\n",
       "<table border=\"1\" class=\"dataframe\">\n",
       "  <thead>\n",
       "    <tr style=\"text-align: right;\">\n",
       "      <th></th>\n",
       "      <th>guess</th>\n",
       "      <th>true</th>\n",
       "    </tr>\n",
       "  </thead>\n",
       "  <tbody>\n",
       "    <tr>\n",
       "      <th>0</th>\n",
       "      <td>2</td>\n",
       "      <td>more-is-more</td>\n",
       "    </tr>\n",
       "    <tr>\n",
       "      <th>1</th>\n",
       "      <td>3</td>\n",
       "      <td>dry-and-soft</td>\n",
       "    </tr>\n",
       "    <tr>\n",
       "      <th>2</th>\n",
       "      <td>0</td>\n",
       "      <td>ok-but-too-salt</td>\n",
       "    </tr>\n",
       "    <tr>\n",
       "      <th>3</th>\n",
       "      <td>1</td>\n",
       "      <td>natural</td>\n",
       "    </tr>\n",
       "    <tr>\n",
       "      <th>4</th>\n",
       "      <td>2</td>\n",
       "      <td>more-is-more</td>\n",
       "    </tr>\n",
       "    <tr>\n",
       "      <th>5</th>\n",
       "      <td>3</td>\n",
       "      <td>dry-and-soft</td>\n",
       "    </tr>\n",
       "    <tr>\n",
       "      <th>6</th>\n",
       "      <td>0</td>\n",
       "      <td>ok-but-too-salt</td>\n",
       "    </tr>\n",
       "    <tr>\n",
       "      <th>7</th>\n",
       "      <td>0</td>\n",
       "      <td>ok-but-too-salt</td>\n",
       "    </tr>\n",
       "    <tr>\n",
       "      <th>8</th>\n",
       "      <td>1</td>\n",
       "      <td>natural</td>\n",
       "    </tr>\n",
       "    <tr>\n",
       "      <th>9</th>\n",
       "      <td>1</td>\n",
       "      <td>natural</td>\n",
       "    </tr>\n",
       "    <tr>\n",
       "      <th>10</th>\n",
       "      <td>0</td>\n",
       "      <td>ok-but-too-salt</td>\n",
       "    </tr>\n",
       "    <tr>\n",
       "      <th>11</th>\n",
       "      <td>3</td>\n",
       "      <td>dry-and-soft</td>\n",
       "    </tr>\n",
       "    <tr>\n",
       "      <th>12</th>\n",
       "      <td>0</td>\n",
       "      <td>ok-but-too-salt</td>\n",
       "    </tr>\n",
       "    <tr>\n",
       "      <th>13</th>\n",
       "      <td>0</td>\n",
       "      <td>ok-but-too-salt</td>\n",
       "    </tr>\n",
       "    <tr>\n",
       "      <th>14</th>\n",
       "      <td>3</td>\n",
       "      <td>dry-and-soft</td>\n",
       "    </tr>\n",
       "    <tr>\n",
       "      <th>15</th>\n",
       "      <td>3</td>\n",
       "      <td>dry-and-soft</td>\n",
       "    </tr>\n",
       "    <tr>\n",
       "      <th>16</th>\n",
       "      <td>3</td>\n",
       "      <td>dry-and-soft</td>\n",
       "    </tr>\n",
       "    <tr>\n",
       "      <th>17</th>\n",
       "      <td>1</td>\n",
       "      <td>natural</td>\n",
       "    </tr>\n",
       "    <tr>\n",
       "      <th>18</th>\n",
       "      <td>1</td>\n",
       "      <td>natural</td>\n",
       "    </tr>\n",
       "    <tr>\n",
       "      <th>19</th>\n",
       "      <td>1</td>\n",
       "      <td>natural</td>\n",
       "    </tr>\n",
       "    <tr>\n",
       "      <th>20</th>\n",
       "      <td>1</td>\n",
       "      <td>natural</td>\n",
       "    </tr>\n",
       "    <tr>\n",
       "      <th>21</th>\n",
       "      <td>1</td>\n",
       "      <td>natural</td>\n",
       "    </tr>\n",
       "    <tr>\n",
       "      <th>22</th>\n",
       "      <td>0</td>\n",
       "      <td>ok-but-too-salt</td>\n",
       "    </tr>\n",
       "    <tr>\n",
       "      <th>23</th>\n",
       "      <td>1</td>\n",
       "      <td>natural</td>\n",
       "    </tr>\n",
       "  </tbody>\n",
       "</table>\n",
       "</div>"
      ],
      "text/plain": [
       "    guess             true\n",
       "0       2     more-is-more\n",
       "1       3     dry-and-soft\n",
       "2       0  ok-but-too-salt\n",
       "3       1          natural\n",
       "4       2     more-is-more\n",
       "5       3     dry-and-soft\n",
       "6       0  ok-but-too-salt\n",
       "7       0  ok-but-too-salt\n",
       "8       1          natural\n",
       "9       1          natural\n",
       "10      0  ok-but-too-salt\n",
       "11      3     dry-and-soft\n",
       "12      0  ok-but-too-salt\n",
       "13      0  ok-but-too-salt\n",
       "14      3     dry-and-soft\n",
       "15      3     dry-and-soft\n",
       "16      3     dry-and-soft\n",
       "17      1          natural\n",
       "18      1          natural\n",
       "19      1          natural\n",
       "20      1          natural\n",
       "21      1          natural\n",
       "22      0  ok-but-too-salt\n",
       "23      1          natural"
      ]
     },
     "execution_count": 70,
     "metadata": {},
     "output_type": "execute_result"
    }
   ],
   "source": [
    "pd.DataFrame({\n",
    "        'true': list(zip(*people_names_data))[0],\n",
    "        'guess': m.row_labels_\n",
    "        })"
   ]
  },
  {
   "cell_type": "code",
   "execution_count": 71,
   "metadata": {
    "collapsed": false
   },
   "outputs": [],
   "source": [
    "nuts['category'] = m.column_labels_"
   ]
  },
  {
   "cell_type": "code",
   "execution_count": 72,
   "metadata": {
    "collapsed": false
   },
   "outputs": [],
   "source": [
    "def plot_pairs(data, max_cols=3, color=None):\n",
    "    data = pd.DataFrame(data)\n",
    "    colnames = data.columns\n",
    "    rows = int(np.ceil(len(colnames) / max_cols))\n",
    "    cols = min(max_cols, len(colnames))\n",
    "    pairs = list(itertools.combinations(colnames, 2))\n",
    "    fig, axs = plt.subplots(rows, cols, figsize=(cols * 3, rows * 3))\n",
    "    for (propa, propb), ax in zip(pairs, axs.flat):\n",
    "        ax.scatter(data[propa], data[propb], marker='.', color=color)\n",
    "        ax.set_xlabel(propa)\n",
    "        ax.set_ylabel(propb)\n",
    "        fig.tight_layout()"
   ]
  },
  {
   "cell_type": "code",
   "execution_count": 73,
   "metadata": {
    "collapsed": false
   },
   "outputs": [],
   "source": [
    "def cycler():\n",
    "    while True:\n",
    "        yield 'r'\n",
    "        yield 'b'\n",
    "        yield 'k'"
   ]
  },
  {
   "cell_type": "code",
   "execution_count": 74,
   "metadata": {
    "collapsed": true
   },
   "outputs": [],
   "source": [
    "colors = ['r', 'b', 'k', 'm']"
   ]
  },
  {
   "cell_type": "code",
   "execution_count": 75,
   "metadata": {
    "collapsed": false
   },
   "outputs": [
    {
     "data": {
      "image/png": "[encoded data removed]",
      "text/plain": [
       "<matplotlib.figure.Figure at 0x7f5c12aa1ac8>"
      ]
     },
     "metadata": {},
     "output_type": "display_data"
    }
   ],
   "source": [
    "c = cycler()\n",
    "plot_pairs(nuts[properties], color=[colors[v] for v in nuts['category']])"
   ]
  },
  {
   "cell_type": "code",
   "execution_count": 76,
   "metadata": {
    "collapsed": false
   },
   "outputs": [
    {
     "data": {
      "image/png": "[encoded data removed]",
      "text/plain": [
       "<matplotlib.figure.Figure at 0x7f5c12ca9128>"
      ]
     },
     "metadata": {},
     "output_type": "display_data"
    }
   ],
   "source": [
    "pca = sklearn.decomposition.PCA()\n",
    "d = pd.DataFrame(pca.fit_transform(nuts[properties]), columns=['PC{}'.format(i + 1) for i in range(len(properties))])\n",
    "plot_pairs(d, color=[colors[v] for v in nuts['category']])"
   ]
  },
  {
   "cell_type": "code",
   "execution_count": 162,
   "metadata": {
    "collapsed": true
   },
   "outputs": [],
   "source": [
    "PROPERTY_NAMES = ['Salt', 'Knaprig', 'Rostad', 'Flottig']\n",
    "SCORE = 'Betyg'"
   ]
  },
  {
   "cell_type": "code",
   "execution_count": 153,
   "metadata": {
    "collapsed": false
   },
   "outputs": [],
   "source": [
    "def load_data(path):\n",
    "    d = pd.read_csv(path)\n",
    "    \n",
    "    d = d.rename(\n",
    "        columns={ ''\n",
    "            'Din TBF': 'TBF',\n",
    "            'Vilken jordnöt?': 'Nöt',\n",
    "            'Betygsätt totalupplevelsen': 'Betyg'\n",
    "        })\n",
    "\n",
    "    nuts = ['{}{:02}'.format(v[0], int(v[1:])) for v in d['Nöt']]\n",
    "    d['Nöt'] = nuts\n",
    "    \n",
    "    def get_latest(d):\n",
    "        return d.sort_values('Timestamp', ascending=False).iloc[0]\n",
    "\n",
    "    \n",
    "    return d.groupby(['TBF', 'Nöt']).apply(get_latest).reset_index(drop=True)"
   ]
  },
  {
   "cell_type": "code",
   "execution_count": 156,
   "metadata": {
    "collapsed": false
   },
   "outputs": [],
   "source": [
    "d = load_data('Untitled form.csv')"
   ]
  },
  {
   "cell_type": "code",
   "execution_count": 163,
   "metadata": {
    "collapsed": false
   },
   "outputs": [
    {
     "data": {
      "text/html": [
       "<div>\n",
       "<table border=\"1\" class=\"dataframe\">\n",
       "  <thead>\n",
       "    <tr style=\"text-align: right;\">\n",
       "      <th></th>\n",
       "      <th>Salt</th>\n",
       "      <th>Knaprig</th>\n",
       "      <th>Rostad</th>\n",
       "      <th>Flottig</th>\n",
       "    </tr>\n",
       "    <tr>\n",
       "      <th>Nöt</th>\n",
       "      <th></th>\n",
       "      <th></th>\n",
       "      <th></th>\n",
       "      <th></th>\n",
       "    </tr>\n",
       "  </thead>\n",
       "  <tbody>\n",
       "    <tr>\n",
       "      <th>J02</th>\n",
       "      <td>3</td>\n",
       "      <td>6</td>\n",
       "      <td>3</td>\n",
       "      <td>6</td>\n",
       "    </tr>\n",
       "    <tr>\n",
       "      <th>J06</th>\n",
       "      <td>6</td>\n",
       "      <td>4</td>\n",
       "      <td>5</td>\n",
       "      <td>3</td>\n",
       "    </tr>\n",
       "    <tr>\n",
       "      <th>J07</th>\n",
       "      <td>1</td>\n",
       "      <td>1</td>\n",
       "      <td>1</td>\n",
       "      <td>1</td>\n",
       "    </tr>\n",
       "    <tr>\n",
       "      <th>J08</th>\n",
       "      <td>5</td>\n",
       "      <td>2</td>\n",
       "      <td>5</td>\n",
       "      <td>3</td>\n",
       "    </tr>\n",
       "    <tr>\n",
       "      <th>J11</th>\n",
       "      <td>3</td>\n",
       "      <td>5</td>\n",
       "      <td>3</td>\n",
       "      <td>6</td>\n",
       "    </tr>\n",
       "    <tr>\n",
       "      <th>J12</th>\n",
       "      <td>4</td>\n",
       "      <td>5</td>\n",
       "      <td>5</td>\n",
       "      <td>7</td>\n",
       "    </tr>\n",
       "    <tr>\n",
       "      <th>J16</th>\n",
       "      <td>6</td>\n",
       "      <td>3</td>\n",
       "      <td>5</td>\n",
       "      <td>3</td>\n",
       "    </tr>\n",
       "    <tr>\n",
       "      <th>J20</th>\n",
       "      <td>4</td>\n",
       "      <td>2</td>\n",
       "      <td>5</td>\n",
       "      <td>3</td>\n",
       "    </tr>\n",
       "  </tbody>\n",
       "</table>\n",
       "</div>"
      ],
      "text/plain": [
       "     Salt  Knaprig  Rostad  Flottig\n",
       "Nöt                                \n",
       "J02     3        6       3        6\n",
       "J06     6        4       5        3\n",
       "J07     1        1       1        1\n",
       "J08     5        2       5        3\n",
       "J11     3        5       3        6\n",
       "J12     4        5       5        7\n",
       "J16     6        3       5        3\n",
       "J20     4        2       5        3"
      ]
     },
     "execution_count": 163,
     "metadata": {},
     "output_type": "execute_result"
    }
   ],
   "source": [
    "properties = d.groupby('Nöt')[PROPERTIES].mean()\n",
    "properties"
   ]
  },
  {
   "cell_type": "code",
   "execution_count": 168,
   "metadata": {
    "collapsed": false
   },
   "outputs": [],
   "source": [
    "scores = d.set_index(['TBF', 'Nöt'])['Betyg'].unstack()"
   ]
  },
  {
   "cell_type": "code",
   "execution_count": 172,
   "metadata": {
    "collapsed": false
   },
   "outputs": [
    {
     "data": {
      "text/html": [
       "<div>\n",
       "<table border=\"1\" class=\"dataframe\">\n",
       "  <thead>\n",
       "    <tr style=\"text-align: right;\">\n",
       "      <th>Nöt</th>\n",
       "      <th>J02</th>\n",
       "      <th>J06</th>\n",
       "      <th>J07</th>\n",
       "      <th>J08</th>\n",
       "      <th>J11</th>\n",
       "      <th>J12</th>\n",
       "      <th>J16</th>\n",
       "      <th>J20</th>\n",
       "    </tr>\n",
       "    <tr>\n",
       "      <th>TBF</th>\n",
       "      <th></th>\n",
       "      <th></th>\n",
       "      <th></th>\n",
       "      <th></th>\n",
       "      <th></th>\n",
       "      <th></th>\n",
       "      <th></th>\n",
       "      <th></th>\n",
       "    </tr>\n",
       "  </thead>\n",
       "  <tbody>\n",
       "    <tr>\n",
       "      <th>ATG</th>\n",
       "      <td>NaN</td>\n",
       "      <td>NaN</td>\n",
       "      <td>1.0</td>\n",
       "      <td>NaN</td>\n",
       "      <td>4.0</td>\n",
       "      <td>NaN</td>\n",
       "      <td>NaN</td>\n",
       "      <td>NaN</td>\n",
       "    </tr>\n",
       "    <tr>\n",
       "      <th>PPA</th>\n",
       "      <td>NaN</td>\n",
       "      <td>5.0</td>\n",
       "      <td>NaN</td>\n",
       "      <td>NaN</td>\n",
       "      <td>NaN</td>\n",
       "      <td>NaN</td>\n",
       "      <td>NaN</td>\n",
       "      <td>NaN</td>\n",
       "    </tr>\n",
       "    <tr>\n",
       "      <th>PSI</th>\n",
       "      <td>1.0</td>\n",
       "      <td>NaN</td>\n",
       "      <td>NaN</td>\n",
       "      <td>7.0</td>\n",
       "      <td>NaN</td>\n",
       "      <td>6.0</td>\n",
       "      <td>5.0</td>\n",
       "      <td>5.0</td>\n",
       "    </tr>\n",
       "  </tbody>\n",
       "</table>\n",
       "</div>"
      ],
      "text/plain": [
       "Nöt  J02  J06  J07  J08  J11  J12  J16  J20\n",
       "TBF                                        \n",
       "ATG  NaN  NaN  1.0  NaN  4.0  NaN  NaN  NaN\n",
       "PPA  NaN  5.0  NaN  NaN  NaN  NaN  NaN  NaN\n",
       "PSI  1.0  NaN  NaN  7.0  NaN  6.0  5.0  5.0"
      ]
     },
     "execution_count": 172,
     "metadata": {},
     "output_type": "execute_result"
    }
   ],
   "source": [
    "scores"
   ]
  },
  {
   "cell_type": "code",
   "execution_count": 189,
   "metadata": {
    "collapsed": false
   },
   "outputs": [
    {
     "data": {
      "text/plain": [
       "Nöt\n",
       "J02    1.0\n",
       "J06    5.0\n",
       "J07    1.0\n",
       "J08    7.0\n",
       "J11    4.0\n",
       "J12    6.0\n",
       "J16    5.0\n",
       "J20    5.0\n",
       "Name: ATG, dtype: float64"
      ]
     },
     "execution_count": 189,
     "metadata": {},
     "output_type": "execute_result"
    }
   ],
   "source": [
    "r = scores.loc['ATG']\n",
    "r.where(r.notnull(), scores.mean())"
   ]
  },
  {
   "cell_type": "code",
   "execution_count": 194,
   "metadata": {
    "collapsed": false
   },
   "outputs": [],
   "source": [
    "scores_filled = scores.apply(lambda row: row.where(row.notnull(), scores.mean()), axis=1)"
   ]
  },
  {
   "cell_type": "code",
   "execution_count": 195,
   "metadata": {
    "collapsed": false
   },
   "outputs": [
    {
     "data": {
      "text/plain": [
       "SpectralBiclustering(init='k-means++', method='log', mini_batch=False,\n",
       "           n_best=3, n_clusters=(2, 2), n_components=6, n_init=10,\n",
       "           n_jobs=1, n_svd_vecs=None, random_state=0,\n",
       "           svd_method='randomized')"
      ]
     },
     "execution_count": 195,
     "metadata": {},
     "output_type": "execute_result"
    }
   ],
   "source": [
    "fit_model(scores_filled, (2, 2))"
   ]
  },
  {
   "cell_type": "code",
   "execution_count": null,
   "metadata": {
    "collapsed": true
   },
   "outputs": [],
   "source": []
  }
 ],
 "metadata": {
  "kernelspec": {
   "display_name": "Python 3",
   "language": "python",
   "name": "python3"
  },
  "language_info": {
   "codemirror_mode": {
    "name": "ipython",
    "version": 3
   },
   "file_extension": ".py",
   "mimetype": "text/x-python",
   "name": "python",
   "nbconvert_exporter": "python",
   "pygments_lexer": "ipython3",
   "version": "3.5.2"
  }
 },
 "nbformat": 4,
 "nbformat_minor": 1
}
