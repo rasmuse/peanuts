{
 "cells": [
  {
   "cell_type": "code",
   "execution_count": 67,
   "metadata": {
    "collapsed": false
   },
   "outputs": [
    {
     "data": {
      "image/png": "[encoded data removed]",
      "text/plain": [
       "<matplotlib.figure.Figure at 0x7f3c79cd5240>"
      ]
     },
     "metadata": {},
     "output_type": "display_data"
    }
   ],
   "source": [
    "import itertools\n",
    "import numpy as np\n",
    "import sklearn\n",
    "from sklearn.cluster.bicluster import SpectralBiclustering\n",
    "from matplotlib import pyplot as plt\n",
    "import pandas as pd\n",
    "import seaborn as sns\n",
    "sns.set_style('white')\n",
    "plt.rcParams['image.cmap'] = 'viridis'\n",
    "%matplotlib inline\n",
    "\n",
    "properties = ['salt', 'roast', 'grease', 'crunch']\n",
    "\n",
    "clusters = {\n",
    "    'more-is-more': [1., 1., 1., .1],\n",
    "    'natural': [0., 0.1, 0.1, 0.4],\n",
    "    'ok-but-too-salt': [0.8, 0.5, 0.5, .5],\n",
    "    'dry-and-soft': [0.5, 0.5, 0.1, 0.2]\n",
    "}\n",
    "\n",
    "M = 24\n",
    "N = 20\n",
    "\n",
    "def nut_generator(clusters):\n",
    "    cluster_names = list(clusters.keys())\n",
    "    while True:\n",
    "        yield clusters[np.random.choice(cluster_names)] + 0.1 * np.random.random(len(properties))\n",
    "\n",
    "ng = nut_generator(clusters)\n",
    "people = np.stack([next(ng) for i in range(M)])\n",
    "nuts = np.stack([next(ng) for j in range(N)])\n",
    "\n",
    "def make_scores(people, nuts):\n",
    "    scores = np.zeros((M, N))\n",
    "    for (i, p), (j, n) in itertools.product(enumerate(people), enumerate(nuts)):\n",
    "        closeness = sum((p - n) ** 2)\n",
    "        scores[i, j] = closeness\n",
    "    return scores\n",
    "\n",
    "def fit_model(scores, n_clusters):\n",
    "    model = SpectralBiclustering(\n",
    "        n_clusters=n_clusters, method='log', random_state=0)\n",
    "    model.fit(scores)\n",
    "    return model\n",
    "\n",
    "def sort_scores(scores, model):\n",
    "    sorted_scores = scores[np.argsort(model.row_labels_)]\n",
    "    sorted_scores = sorted_scores[:, np.argsort(model.column_labels_)]\n",
    "    return sorted_scores\n",
    "    \n",
    "def simulate_and_plot(scores, n_clusters):\n",
    "    model = fit_model(scores, n_clusters)\n",
    "    sorted_scores = sort_scores(scores, model)\n",
    "\n",
    "    fig, ax = plt.subplots(1, 3, figsize=(8, 10))\n",
    "    ax[0].matshow(scores)\n",
    "    ax[1].matshow(sorted_scores)\n",
    "    \n",
    "    ax[2].matshow(np.outer(np.sort(model.row_labels_) + 1,\n",
    "                     np.sort(model.column_labels_) + 1))\n",
    "\n",
    "simulate_and_plot(make_scores(people, nuts), (4, 4))"
   ]
  },
  {
   "cell_type": "code",
   "execution_count": 59,
   "metadata": {
    "collapsed": false
   },
   "outputs": [],
   "source": [
    "m = fit_model(make_scores(people, nuts), (4, 4))"
   ]
  },
  {
   "cell_type": "code",
   "execution_count": 60,
   "metadata": {
    "collapsed": false
   },
   "outputs": [
    {
     "data": {
      "text/plain": [
       "array([0, 3, 3, 0, 2, 2, 2, 0, 3, 1, 2, 3, 0, 2, 1, 0, 1, 2, 3, 1, 1, 1, 0,\n",
       "       0], dtype=int32)"
      ]
     },
     "execution_count": 60,
     "metadata": {},
     "output_type": "execute_result"
    }
   ],
   "source": [
    "m.row_labels_"
   ]
  },
  {
   "cell_type": "code",
   "execution_count": 61,
   "metadata": {
    "collapsed": false
   },
   "outputs": [
    {
     "data": {
      "text/plain": [
       "array([2, 1, 3, 3, 1, 2, 1, 3, 2, 2, 0, 0, 0, 1, 1, 0, 1, 2, 3, 1], dtype=int32)"
      ]
     },
     "execution_count": 61,
     "metadata": {},
     "output_type": "execute_result"
    }
   ],
   "source": [
    "m.column_labels_"
   ]
  },
  {
   "cell_type": "code",
   "execution_count": 62,
   "metadata": {
    "collapsed": false
   },
   "outputs": [
    {
     "data": {
      "text/plain": [
       "array([[ 0.52442043,  0.59527672,  0.15570461,  0.29162125],\n",
       "       [ 1.0273151 ,  1.08054536,  1.03245918,  0.11849566],\n",
       "       [ 0.81015919,  0.58282345,  0.59664599,  0.53811084],\n",
       "       [ 0.89633567,  0.58864889,  0.50445888,  0.51776221],\n",
       "       [ 1.00892062,  1.09952006,  1.05837182,  0.17789475],\n",
       "       [ 0.56721842,  0.54178009,  0.17397819,  0.21733502],\n",
       "       [ 1.0763225 ,  1.0323715 ,  1.01881445,  0.10570382],\n",
       "       [ 0.86212452,  0.59676999,  0.58186371,  0.56296941],\n",
       "       [ 0.52025044,  0.56300788,  0.10940975,  0.29502107],\n",
       "       [ 0.51387971,  0.53399956,  0.1563381 ,  0.24343782],\n",
       "       [ 0.05369577,  0.14949336,  0.13534148,  0.4109382 ],\n",
       "       [ 0.05395349,  0.10561999,  0.13718357,  0.46295531],\n",
       "       [ 0.02083705,  0.19126035,  0.19563942,  0.48557957],\n",
       "       [ 1.0277467 ,  1.05870263,  1.02863334,  0.19050092],\n",
       "       [ 1.02369126,  1.07275763,  1.06366079,  0.13481691],\n",
       "       [ 0.03468019,  0.10634811,  0.13590837,  0.45880233],\n",
       "       [ 1.0676556 ,  1.0218463 ,  1.02041885,  0.17753571],\n",
       "       [ 0.5421331 ,  0.54251181,  0.17625804,  0.24756525],\n",
       "       [ 0.88484951,  0.52355936,  0.5766584 ,  0.59962366],\n",
       "       [ 1.07026011,  1.09772888,  1.05325779,  0.11886966]])"
      ]
     },
     "execution_count": 62,
     "metadata": {},
     "output_type": "execute_result"
    }
   ],
   "source": [
    "nuts"
   ]
  },
  {
   "cell_type": "code",
   "execution_count": 63,
   "metadata": {
    "collapsed": false
   },
   "outputs": [
    {
     "data": {
      "text/plain": [
       "array([[ -3.50510800e-01,   1.37623886e-01,   1.88094501e-01,\n",
       "          5.43691167e-02],\n",
       "       [  7.51552472e-01,   9.75685287e-02,  -7.27126276e-02,\n",
       "          5.96365549e-04],\n",
       "       [  3.22388346e-02,  -2.66958641e-01,   2.93137168e-02,\n",
       "          1.44630590e-02],\n",
       "       [  3.24387866e-02,  -2.60926813e-01,   1.54216039e-01,\n",
       "         -1.26633000e-02],\n",
       "       [  7.57240722e-01,   5.80362558e-02,  -1.00495111e-01,\n",
       "          5.09062960e-02],\n",
       "       [ -3.31686976e-01,   1.57415216e-01,   1.91268615e-01,\n",
       "         -4.45743905e-02],\n",
       "       [  7.47720168e-01,   7.37112294e-02,  -4.06038724e-02,\n",
       "         -5.82035150e-02],\n",
       "       [  5.65423435e-02,  -2.98031776e-01,   7.55184512e-02,\n",
       "          2.08103394e-02],\n",
       "       [ -3.98522098e-01,   1.33468281e-01,   2.14639590e-01,\n",
       "          4.07146648e-02],\n",
       "       [ -3.81152935e-01,   1.56684487e-01,   1.69822120e-01,\n",
       "         -1.30987545e-02],\n",
       "       [ -8.89125387e-01,   4.56460692e-02,  -1.73199554e-01,\n",
       "         -2.21600553e-02],\n",
       "       [ -9.19610145e-01,  -1.43950104e-02,  -1.82655579e-01,\n",
       "         -2.53918063e-02],\n",
       "       [ -8.61296544e-01,   8.12624446e-04,  -2.31929927e-01,\n",
       "          5.39820083e-02],\n",
       "       [  7.26315063e-01,   3.09908818e-02,  -7.37381884e-02,\n",
       "          2.52159406e-02],\n",
       "       [  7.61486709e-01,   7.60389363e-02,  -1.00120412e-01,\n",
       "          1.14880262e-03],\n",
       "       [ -9.30352390e-01,  -3.27277211e-03,  -1.93588209e-01,\n",
       "         -1.97136628e-02],\n",
       "       [  7.26612341e-01,   1.39617715e-02,  -4.93440171e-02,\n",
       "         -2.27583115e-02],\n",
       "       [ -3.49116652e-01,   1.41948373e-01,   1.73929674e-01,\n",
       "         -1.80184622e-02],\n",
       "       [  2.14738253e-02,  -3.63945200e-01,   8.00659198e-02,\n",
       "         -1.98318857e-02],\n",
       "       [  7.97752660e-01,   8.36236718e-02,  -5.84811284e-02,\n",
       "         -5.79244916e-03]])"
      ]
     },
     "execution_count": 63,
     "metadata": {},
     "output_type": "execute_result"
    }
   ],
   "source": [
    "pca = sklearn.decomposition.PCA(len(properties))\n",
    "pca.fit(nuts)\n",
    "pca.fit_transform(nuts)"
   ]
  },
  {
   "cell_type": "code",
   "execution_count": 64,
   "metadata": {
    "collapsed": true
   },
   "outputs": [],
   "source": [
    "import itertools"
   ]
  },
  {
   "cell_type": "code",
   "execution_count": 70,
   "metadata": {
    "collapsed": false
   },
   "outputs": [
    {
     "data": {
      "text/html": [
       "<div>\n",
       "<table border=\"1\" class=\"dataframe\">\n",
       "  <thead>\n",
       "    <tr style=\"text-align: right;\">\n",
       "      <th></th>\n",
       "      <th>salt</th>\n",
       "      <th>roast</th>\n",
       "      <th>grease</th>\n",
       "      <th>crunch</th>\n",
       "    </tr>\n",
       "  </thead>\n",
       "  <tbody>\n",
       "    <tr>\n",
       "      <th>A1</th>\n",
       "      <td>1.074133</td>\n",
       "      <td>1.084372</td>\n",
       "      <td>1.083503</td>\n",
       "      <td>0.197950</td>\n",
       "    </tr>\n",
       "    <tr>\n",
       "      <th>A2</th>\n",
       "      <td>0.082490</td>\n",
       "      <td>0.187031</td>\n",
       "      <td>0.147767</td>\n",
       "      <td>0.437418</td>\n",
       "    </tr>\n",
       "    <tr>\n",
       "      <th>A3</th>\n",
       "      <td>0.577759</td>\n",
       "      <td>0.561047</td>\n",
       "      <td>0.168419</td>\n",
       "      <td>0.292571</td>\n",
       "    </tr>\n",
       "    <tr>\n",
       "      <th>A4</th>\n",
       "      <td>1.032580</td>\n",
       "      <td>1.070643</td>\n",
       "      <td>1.013193</td>\n",
       "      <td>0.118925</td>\n",
       "    </tr>\n",
       "    <tr>\n",
       "      <th>A5</th>\n",
       "      <td>0.084407</td>\n",
       "      <td>0.197363</td>\n",
       "      <td>0.150619</td>\n",
       "      <td>0.442572</td>\n",
       "    </tr>\n",
       "    <tr>\n",
       "      <th>A6</th>\n",
       "      <td>0.072242</td>\n",
       "      <td>0.178106</td>\n",
       "      <td>0.132576</td>\n",
       "      <td>0.448494</td>\n",
       "    </tr>\n",
       "    <tr>\n",
       "      <th>A7</th>\n",
       "      <td>0.591689</td>\n",
       "      <td>0.590046</td>\n",
       "      <td>0.141178</td>\n",
       "      <td>0.204849</td>\n",
       "    </tr>\n",
       "    <tr>\n",
       "      <th>A8</th>\n",
       "      <td>0.897971</td>\n",
       "      <td>0.570069</td>\n",
       "      <td>0.578913</td>\n",
       "      <td>0.511760</td>\n",
       "    </tr>\n",
       "    <tr>\n",
       "      <th>A9</th>\n",
       "      <td>0.079641</td>\n",
       "      <td>0.175422</td>\n",
       "      <td>0.123638</td>\n",
       "      <td>0.427578</td>\n",
       "    </tr>\n",
       "    <tr>\n",
       "      <th>A10</th>\n",
       "      <td>0.801162</td>\n",
       "      <td>0.532278</td>\n",
       "      <td>0.531430</td>\n",
       "      <td>0.578178</td>\n",
       "    </tr>\n",
       "    <tr>\n",
       "      <th>A11</th>\n",
       "      <td>0.500021</td>\n",
       "      <td>0.548796</td>\n",
       "      <td>0.145838</td>\n",
       "      <td>0.234585</td>\n",
       "    </tr>\n",
       "    <tr>\n",
       "      <th>A12</th>\n",
       "      <td>1.023815</td>\n",
       "      <td>1.083014</td>\n",
       "      <td>1.078694</td>\n",
       "      <td>0.107922</td>\n",
       "    </tr>\n",
       "    <tr>\n",
       "      <th>A13</th>\n",
       "      <td>0.022990</td>\n",
       "      <td>0.198898</td>\n",
       "      <td>0.169704</td>\n",
       "      <td>0.470723</td>\n",
       "    </tr>\n",
       "    <tr>\n",
       "      <th>A14</th>\n",
       "      <td>0.858525</td>\n",
       "      <td>0.562338</td>\n",
       "      <td>0.563012</td>\n",
       "      <td>0.532521</td>\n",
       "    </tr>\n",
       "    <tr>\n",
       "      <th>A15</th>\n",
       "      <td>0.019219</td>\n",
       "      <td>0.199656</td>\n",
       "      <td>0.110399</td>\n",
       "      <td>0.472998</td>\n",
       "    </tr>\n",
       "    <tr>\n",
       "      <th>A16</th>\n",
       "      <td>1.093930</td>\n",
       "      <td>1.063105</td>\n",
       "      <td>1.023510</td>\n",
       "      <td>0.156913</td>\n",
       "    </tr>\n",
       "    <tr>\n",
       "      <th>A17</th>\n",
       "      <td>1.055900</td>\n",
       "      <td>1.044629</td>\n",
       "      <td>1.021066</td>\n",
       "      <td>0.196587</td>\n",
       "    </tr>\n",
       "    <tr>\n",
       "      <th>A18</th>\n",
       "      <td>0.519697</td>\n",
       "      <td>0.560443</td>\n",
       "      <td>0.171601</td>\n",
       "      <td>0.231774</td>\n",
       "    </tr>\n",
       "    <tr>\n",
       "      <th>A19</th>\n",
       "      <td>1.047997</td>\n",
       "      <td>1.077120</td>\n",
       "      <td>1.089576</td>\n",
       "      <td>0.136081</td>\n",
       "    </tr>\n",
       "    <tr>\n",
       "      <th>A20</th>\n",
       "      <td>0.010637</td>\n",
       "      <td>0.171923</td>\n",
       "      <td>0.167043</td>\n",
       "      <td>0.427968</td>\n",
       "    </tr>\n",
       "  </tbody>\n",
       "</table>\n",
       "</div>"
      ],
      "text/plain": [
       "         salt     roast    grease    crunch\n",
       "A1   1.074133  1.084372  1.083503  0.197950\n",
       "A2   0.082490  0.187031  0.147767  0.437418\n",
       "A3   0.577759  0.561047  0.168419  0.292571\n",
       "A4   1.032580  1.070643  1.013193  0.118925\n",
       "A5   0.084407  0.197363  0.150619  0.442572\n",
       "A6   0.072242  0.178106  0.132576  0.448494\n",
       "A7   0.591689  0.590046  0.141178  0.204849\n",
       "A8   0.897971  0.570069  0.578913  0.511760\n",
       "A9   0.079641  0.175422  0.123638  0.427578\n",
       "A10  0.801162  0.532278  0.531430  0.578178\n",
       "A11  0.500021  0.548796  0.145838  0.234585\n",
       "A12  1.023815  1.083014  1.078694  0.107922\n",
       "A13  0.022990  0.198898  0.169704  0.470723\n",
       "A14  0.858525  0.562338  0.563012  0.532521\n",
       "A15  0.019219  0.199656  0.110399  0.472998\n",
       "A16  1.093930  1.063105  1.023510  0.156913\n",
       "A17  1.055900  1.044629  1.021066  0.196587\n",
       "A18  0.519697  0.560443  0.171601  0.231774\n",
       "A19  1.047997  1.077120  1.089576  0.136081\n",
       "A20  0.010637  0.171923  0.167043  0.427968"
      ]
     },
     "execution_count": 70,
     "metadata": {},
     "output_type": "execute_result"
    }
   ],
   "source": [
    "pd.DataFrame(nuts, columns=properties, index=['A{}'.format(i+1) for i in range(len(nuts))])"
   ]
  },
  {
   "cell_type": "code",
   "execution_count": 73,
   "metadata": {
    "collapsed": false
   },
   "outputs": [],
   "source": [
    "def plot_pairs(data, colnames, max_cols=3):\n",
    "    rows = int(np.ceil(len(colnames) / max_cols))\n",
    "    cols = min(max_cols, len(colnames))\n",
    "    pairs = list(itertools.combinations(enumerate(colnames), 2))\n",
    "    fig, axs = plt.subplots(rows, cols, figsize=(cols * 3, rows * 3))\n",
    "    for ((ia, propa), (ib, propb)), ax in zip(pairs, axs.flat):\n",
    "        ax.plot(data[:, ia], data[:, ib], '.k')\n",
    "        ax.set_xlabel(propa)\n",
    "        ax.set_ylabel(propb)\n",
    "        fig.tight_layout()"
   ]
  },
  {
   "cell_type": "code",
   "execution_count": 74,
   "metadata": {
    "collapsed": false
   },
   "outputs": [
    {
     "data": {
      "image/png": "[encoded data removed]",
      "text/plain": [
       "<matplotlib.figure.Figure at 0x7f3c79b38f28>"
      ]
     },
     "metadata": {},
     "output_type": "display_data"
    }
   ],
   "source": [
    "plot_pairs(nuts, properties)"
   ]
  },
  {
   "cell_type": "code",
   "execution_count": 75,
   "metadata": {
    "collapsed": false
   },
   "outputs": [
    {
     "data": {
      "image/png": "[encoded data removed]",
      "text/plain": [
       "<matplotlib.figure.Figure at 0x7f3c7951da90>"
      ]
     },
     "metadata": {},
     "output_type": "display_data"
    }
   ],
   "source": [
    "plot_pairs(sklearn.decomposition.PCA().fit_transform(nuts), ['PC{}'.format(i+1) for i in range(len(properties))])"
   ]
  },
  {
   "cell_type": "code",
   "execution_count": null,
   "metadata": {
    "collapsed": true
   },
   "outputs": [],
   "source": []
  }
 ],
 "metadata": {
  "kernelspec": {
   "display_name": "Python 3",
   "language": "python",
   "name": "python3"
  },
  "language_info": {
   "codemirror_mode": {
    "name": "ipython",
    "version": 3
   },
   "file_extension": ".py",
   "mimetype": "text/x-python",
   "name": "python",
   "nbconvert_exporter": "python",
   "pygments_lexer": "ipython3",
   "version": "3.5.2"
  }
 },
 "nbformat": 4,
 "nbformat_minor": 1
}
