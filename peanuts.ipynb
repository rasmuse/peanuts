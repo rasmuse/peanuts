{
 "cells": [
  {
   "cell_type": "code",
   "execution_count": 1,
   "metadata": {
    "collapsed": false
   },
   "outputs": [],
   "source": [
    "import itertools\n",
    "import numpy as np\n",
    "from matplotlib import pyplot as plt\n",
    "import pandas as pd\n",
    "import seaborn as sns\n",
    "import sklearn\n",
    "from sklearn.cluster.bicluster import SpectralBiclustering\n",
    "from sklearn.cluster import AffinityPropagation, DBSCAN\n",
    "import sklearn.metrics.pairwise\n",
    "sns.set_style('white')\n",
    "plt.rcParams['image.cmap'] = 'viridis'\n",
    "%matplotlib inline"
   ]
  },
  {
   "cell_type": "code",
   "execution_count": 2,
   "metadata": {
    "collapsed": true
   },
   "outputs": [],
   "source": [
    "PROPERTY_NAMES = ['Salt', 'Rostad', 'Flottig', 'Knaprig']\n",
    "generate_palette = lambda n: sns.color_palette(\"Set1\", n_colors=n, desat=.8)\n",
    "MARKERS = ['o', 'v', 's', 'p', '^', 'h', '<']"
   ]
  },
  {
   "cell_type": "code",
   "execution_count": 3,
   "metadata": {
    "collapsed": true
   },
   "outputs": [],
   "source": [
    "def plot_pairs(data, max_cols=3, clusters=None):\n",
    "    data = pd.DataFrame(data)\n",
    "    colnames = data.columns\n",
    "    rows = int(np.ceil(len(colnames) / max_cols))\n",
    "    cols = min(max_cols, len(colnames))\n",
    "    pairs = list(itertools.combinations(colnames, 2))\n",
    "    fig, axs = plt.subplots(rows, cols, figsize=(cols * 3, rows * 3))\n",
    "    \n",
    "    if clusters is None:\n",
    "        clusters = [0] * len(data)        \n",
    "\n",
    "    if isinstance(clusters, dict):\n",
    "        clusters = pd.Series(clusters)\n",
    "    if not isinstance(clusters, pd.Series):\n",
    "        clusters = pd.Series(data=clusters, index=data.index)\n",
    "    clusters = clusters[data.index]\n",
    "\n",
    "    colors = generate_palette(len(clusters.unique()))\n",
    "    \n",
    "    for (propa, propb), ax in zip(pairs, axs.flat):\n",
    "        for cluster, marker, color in zip(clusters.unique(), MARKERS, colors):\n",
    "            d = data[clusters == cluster]\n",
    "            ax.scatter(d[propa], d[propb], marker=marker, color=color, s=40)\n",
    "            ax.set_xlabel(propa)\n",
    "            ax.set_ylabel(propb)\n",
    "            fig.tight_layout()\n",
    "\n",
    "def sort_scores(scores, people_clusters=None, nut_clusters=None):\n",
    "    sorted_scores = scores.copy()\n",
    "    if people_clusters is not None:\n",
    "        assert len(people_clusters) == scores.shape[0]\n",
    "        sorted_scores = sorted_scores.iloc[np.argsort(people_clusters), :]\n",
    "    if nut_clusters is not None:\n",
    "        assert len(nut_clusters) == scores.shape[1]\n",
    "        sorted_scores = sorted_scores.iloc[:, np.argsort(nut_clusters)]\n",
    "    return sorted_scores\n",
    "\n",
    "def plot_biclustering(scores, **kwargs):\n",
    "    fig, ax = plt.subplots(1, 1, figsize=(8, 8))\n",
    "    sns.matrix.heatmap(sort_scores(scores, **kwargs), ax=ax)\n",
    "    plt.setp(ax.yaxis.get_majorticklabels(), rotation=0)\n",
    "    return ax"
   ]
  },
  {
   "cell_type": "markdown",
   "metadata": {},
   "source": [
    "## Simulate nuts and people"
   ]
  },
  {
   "cell_type": "code",
   "execution_count": 69,
   "metadata": {
    "collapsed": false
   },
   "outputs": [],
   "source": [
    "def nut_generator(clusters):\n",
    "    cluster_names = list(clusters.keys())\n",
    "    while True:\n",
    "        name = np.random.choice(cluster_names)\n",
    "        yield (name, clusters[name] + 0.2 * np.random.random(len(PROPERTY_NAMES)))\n",
    "\n",
    "N = 18\n",
    "M = 24\n",
    "ng = nut_generator(\n",
    "    {\n",
    "        'more-is-more': [1., 1., 1., .1],\n",
    "        'natural': [0., 0.1, 0.1, 0.4],\n",
    "        'ok-but-too-salt': [0.8, 0.5, 0.5, .5],\n",
    "        'dry-and-soft': [0.5, 0.5, 0.1, 0.2]\n",
    "    }\n",
    ")\n",
    "nuts_clusters_data = [next(ng) for j in range(N)]\n",
    "nuts_raw = (np.stack(list(zip(*nuts_clusters_data))[1]) * 5 + 1).round(2)\n",
    "\n",
    "people_clusters_data = [next(ng) for j in range(M)]\n",
    "people_raw = (np.stack(list(zip(*people_clusters_data))[1]) * 5 + 1).round()\n",
    "\n",
    "nuts = pd.DataFrame(nuts_raw, columns=PROPERTY_NAMES, index=[i+1 for i in range(len(nuts_raw))])\n",
    "scores = sklearn.metrics.pairwise_distances(people_raw, nuts_raw, metric='euclidean')\n",
    "scores = pd.DataFrame(\n",
    "    scores,\n",
    "    index=['P{:02}'.format(i) for i in range(len(people_raw))],\n",
    "    columns=['{:02}'.format(i) for i in range(len(nuts_raw))])"
   ]
  },
  {
   "cell_type": "markdown",
   "metadata": {},
   "source": [
    "## Load real data"
   ]
  },
  {
   "cell_type": "code",
   "execution_count": 84,
   "metadata": {
    "collapsed": false
   },
   "outputs": [
    {
     "data": {
      "text/html": [
       "<div>\n",
       "<table border=\"1\" class=\"dataframe\">\n",
       "  <thead>\n",
       "    <tr style=\"text-align: right;\">\n",
       "      <th></th>\n",
       "      <th>Timestamp</th>\n",
       "      <th>TBF</th>\n",
       "      <th>Nöt</th>\n",
       "      <th>Salt</th>\n",
       "      <th>Knaprig</th>\n",
       "      <th>Rostad</th>\n",
       "      <th>Flottig</th>\n",
       "      <th>Betyg</th>\n",
       "      <th>Kommentar</th>\n",
       "    </tr>\n",
       "  </thead>\n",
       "  <tbody>\n",
       "    <tr>\n",
       "      <th>0</th>\n",
       "      <td>2016-09-24 11:38:24</td>\n",
       "      <td>ATG</td>\n",
       "      <td>04</td>\n",
       "      <td>4</td>\n",
       "      <td>4</td>\n",
       "      <td>4</td>\n",
       "      <td>4</td>\n",
       "      <td>4</td>\n",
       "      <td>4</td>\n",
       "    </tr>\n",
       "    <tr>\n",
       "      <th>1</th>\n",
       "      <td>2016-09-17 00:24:13</td>\n",
       "      <td>ATG</td>\n",
       "      <td>07</td>\n",
       "      <td>1</td>\n",
       "      <td>1</td>\n",
       "      <td>1</td>\n",
       "      <td>1</td>\n",
       "      <td>1</td>\n",
       "      <td>aoeu</td>\n",
       "    </tr>\n",
       "    <tr>\n",
       "      <th>2</th>\n",
       "      <td>2016-09-17 00:23:34</td>\n",
       "      <td>ATG</td>\n",
       "      <td>11</td>\n",
       "      <td>3</td>\n",
       "      <td>5</td>\n",
       "      <td>3</td>\n",
       "      <td>6</td>\n",
       "      <td>4</td>\n",
       "      <td>NaN</td>\n",
       "    </tr>\n",
       "    <tr>\n",
       "      <th>3</th>\n",
       "      <td>2016-09-17 00:19:11</td>\n",
       "      <td>PPA</td>\n",
       "      <td>06</td>\n",
       "      <td>6</td>\n",
       "      <td>4</td>\n",
       "      <td>5</td>\n",
       "      <td>3</td>\n",
       "      <td>5</td>\n",
       "      <td>NaN</td>\n",
       "    </tr>\n",
       "    <tr>\n",
       "      <th>4</th>\n",
       "      <td>2016-09-17 00:11:19</td>\n",
       "      <td>PSI</td>\n",
       "      <td>02</td>\n",
       "      <td>3</td>\n",
       "      <td>6</td>\n",
       "      <td>3</td>\n",
       "      <td>6</td>\n",
       "      <td>1</td>\n",
       "      <td>NaN</td>\n",
       "    </tr>\n",
       "  </tbody>\n",
       "</table>\n",
       "</div>"
      ],
      "text/plain": [
       "            Timestamp  TBF Nöt  Salt  Knaprig  Rostad  Flottig  Betyg  \\\n",
       "0 2016-09-24 11:38:24  ATG  04     4        4       4        4      4   \n",
       "1 2016-09-17 00:24:13  ATG  07     1        1       1        1      1   \n",
       "2 2016-09-17 00:23:34  ATG  11     3        5       3        6      4   \n",
       "3 2016-09-17 00:19:11  PPA  06     6        4       5        3      5   \n",
       "4 2016-09-17 00:11:19  PSI  02     3        6       3        6      1   \n",
       "\n",
       "  Kommentar  \n",
       "0         4  \n",
       "1      aoeu  \n",
       "2       NaN  \n",
       "3       NaN  \n",
       "4       NaN  "
      ]
     },
     "execution_count": 84,
     "metadata": {},
     "output_type": "execute_result"
    }
   ],
   "source": [
    "def load_data(paths):\n",
    "    d = pd.concat(\n",
    "        pd.DataFrame.from_csv(path, index_col=None, parse_dates=['Timestamp'])\n",
    "        for path in paths)\n",
    "\n",
    "    d = d.rename(\n",
    "        columns={ ''\n",
    "            'Din TBF': 'TBF',\n",
    "            'Jordnötens nummer': 'Nöt',\n",
    "            'Betygsätt totalupplevelsen': 'Betyg'\n",
    "        })\n",
    "    \n",
    "    d['TBF'] = [v.upper() for v in d['TBF']]\n",
    "\n",
    "    nuts = ['{:02}'.format(v) for v in d['Nöt']]\n",
    "    d['Nöt'] = nuts\n",
    "    \n",
    "    def get_latest(d):\n",
    "        return d.sort_values('Timestamp', ascending=False).iloc[0]\n",
    "\n",
    "    \n",
    "    timestamps = d.groupby(['TBF', 'Nöt']).apply(get_latest).reset_index(drop=True).set_index('Timestamp').index\n",
    "    return d.set_index('Timestamp').loc[timestamps, :].reset_index()\n",
    "\n",
    "all_data = load_data(['abc', 'abc3', 'Untitled form.csv'])\n",
    "all_data.head()"
   ]
  },
  {
   "cell_type": "markdown",
   "metadata": {},
   "source": [
    "## Rename nuts"
   ]
  },
  {
   "cell_type": "code",
   "execution_count": 85,
   "metadata": {
    "collapsed": true
   },
   "outputs": [],
   "source": [
    "import json\n",
    "with open('num_to_letter.json', 'r') as f:\n",
    "    num_to_letter = json.load(f)"
   ]
  },
  {
   "cell_type": "code",
   "execution_count": 86,
   "metadata": {
    "collapsed": false
   },
   "outputs": [
    {
     "data": {
      "text/html": [
       "<div>\n",
       "<table border=\"1\" class=\"dataframe\">\n",
       "  <thead>\n",
       "    <tr style=\"text-align: right;\">\n",
       "      <th></th>\n",
       "      <th>Timestamp</th>\n",
       "      <th>TBF</th>\n",
       "      <th>Nöt</th>\n",
       "      <th>Salt</th>\n",
       "      <th>Knaprig</th>\n",
       "      <th>Rostad</th>\n",
       "      <th>Flottig</th>\n",
       "      <th>Betyg</th>\n",
       "      <th>Kommentar</th>\n",
       "    </tr>\n",
       "  </thead>\n",
       "  <tbody>\n",
       "    <tr>\n",
       "      <th>0</th>\n",
       "      <td>2016-09-24 11:38:24</td>\n",
       "      <td>ATG</td>\n",
       "      <td>R</td>\n",
       "      <td>4</td>\n",
       "      <td>4</td>\n",
       "      <td>4</td>\n",
       "      <td>4</td>\n",
       "      <td>4</td>\n",
       "      <td>4</td>\n",
       "    </tr>\n",
       "    <tr>\n",
       "      <th>1</th>\n",
       "      <td>2016-09-17 00:24:13</td>\n",
       "      <td>ATG</td>\n",
       "      <td>Q</td>\n",
       "      <td>1</td>\n",
       "      <td>1</td>\n",
       "      <td>1</td>\n",
       "      <td>1</td>\n",
       "      <td>1</td>\n",
       "      <td>aoeu</td>\n",
       "    </tr>\n",
       "    <tr>\n",
       "      <th>2</th>\n",
       "      <td>2016-09-17 00:23:34</td>\n",
       "      <td>ATG</td>\n",
       "      <td>A</td>\n",
       "      <td>3</td>\n",
       "      <td>5</td>\n",
       "      <td>3</td>\n",
       "      <td>6</td>\n",
       "      <td>4</td>\n",
       "      <td>NaN</td>\n",
       "    </tr>\n",
       "    <tr>\n",
       "      <th>3</th>\n",
       "      <td>2016-09-17 00:19:11</td>\n",
       "      <td>PPA</td>\n",
       "      <td>Z</td>\n",
       "      <td>6</td>\n",
       "      <td>4</td>\n",
       "      <td>5</td>\n",
       "      <td>3</td>\n",
       "      <td>5</td>\n",
       "      <td>NaN</td>\n",
       "    </tr>\n",
       "    <tr>\n",
       "      <th>4</th>\n",
       "      <td>2016-09-17 00:11:19</td>\n",
       "      <td>PSI</td>\n",
       "      <td>U</td>\n",
       "      <td>3</td>\n",
       "      <td>6</td>\n",
       "      <td>3</td>\n",
       "      <td>6</td>\n",
       "      <td>1</td>\n",
       "      <td>NaN</td>\n",
       "    </tr>\n",
       "  </tbody>\n",
       "</table>\n",
       "</div>"
      ],
      "text/plain": [
       "            Timestamp  TBF Nöt  Salt  Knaprig  Rostad  Flottig  Betyg  \\\n",
       "0 2016-09-24 11:38:24  ATG   R     4        4       4        4      4   \n",
       "1 2016-09-17 00:24:13  ATG   Q     1        1       1        1      1   \n",
       "2 2016-09-17 00:23:34  ATG   A     3        5       3        6      4   \n",
       "3 2016-09-17 00:19:11  PPA   Z     6        4       5        3      5   \n",
       "4 2016-09-17 00:11:19  PSI   U     3        6       3        6      1   \n",
       "\n",
       "  Kommentar  \n",
       "0         4  \n",
       "1      aoeu  \n",
       "2       NaN  \n",
       "3       NaN  \n",
       "4       NaN  "
      ]
     },
     "execution_count": 86,
     "metadata": {},
     "output_type": "execute_result"
    }
   ],
   "source": [
    "all_data.replace({'Nöt': num_to_letter}, inplace=True)\n",
    "all_data.head()"
   ]
  },
  {
   "cell_type": "code",
   "execution_count": 88,
   "metadata": {
    "collapsed": false
   },
   "outputs": [
    {
     "data": {
      "text/html": [
       "<div>\n",
       "<table border=\"1\" class=\"dataframe\">\n",
       "  <thead>\n",
       "    <tr style=\"text-align: right;\">\n",
       "      <th></th>\n",
       "      <th>Timestamp</th>\n",
       "      <th>TBF</th>\n",
       "      <th>Nöt</th>\n",
       "      <th>Salt</th>\n",
       "      <th>Knaprig</th>\n",
       "      <th>Rostad</th>\n",
       "      <th>Flottig</th>\n",
       "      <th>Betyg</th>\n",
       "      <th>Kommentar</th>\n",
       "    </tr>\n",
       "  </thead>\n",
       "  <tbody>\n",
       "    <tr>\n",
       "      <th>0</th>\n",
       "      <td>2016-09-24 11:38:24</td>\n",
       "      <td>ATG</td>\n",
       "      <td>Estrella</td>\n",
       "      <td>4</td>\n",
       "      <td>4</td>\n",
       "      <td>4</td>\n",
       "      <td>4</td>\n",
       "      <td>4</td>\n",
       "      <td>4</td>\n",
       "    </tr>\n",
       "    <tr>\n",
       "      <th>1</th>\n",
       "      <td>2016-09-17 00:24:13</td>\n",
       "      <td>ATG</td>\n",
       "      <td>arne</td>\n",
       "      <td>1</td>\n",
       "      <td>1</td>\n",
       "      <td>1</td>\n",
       "      <td>1</td>\n",
       "      <td>1</td>\n",
       "      <td>aoeu</td>\n",
       "    </tr>\n",
       "    <tr>\n",
       "      <th>2</th>\n",
       "      <td>2016-09-17 00:23:34</td>\n",
       "      <td>ATG</td>\n",
       "      <td>A</td>\n",
       "      <td>3</td>\n",
       "      <td>5</td>\n",
       "      <td>3</td>\n",
       "      <td>6</td>\n",
       "      <td>4</td>\n",
       "      <td>NaN</td>\n",
       "    </tr>\n",
       "    <tr>\n",
       "      <th>3</th>\n",
       "      <td>2016-09-17 00:19:11</td>\n",
       "      <td>PPA</td>\n",
       "      <td>Z</td>\n",
       "      <td>6</td>\n",
       "      <td>4</td>\n",
       "      <td>5</td>\n",
       "      <td>3</td>\n",
       "      <td>5</td>\n",
       "      <td>NaN</td>\n",
       "    </tr>\n",
       "    <tr>\n",
       "      <th>4</th>\n",
       "      <td>2016-09-17 00:11:19</td>\n",
       "      <td>PSI</td>\n",
       "      <td>Hemodlade</td>\n",
       "      <td>3</td>\n",
       "      <td>6</td>\n",
       "      <td>3</td>\n",
       "      <td>6</td>\n",
       "      <td>1</td>\n",
       "      <td>NaN</td>\n",
       "    </tr>\n",
       "  </tbody>\n",
       "</table>\n",
       "</div>"
      ],
      "text/plain": [
       "            Timestamp  TBF        Nöt  Salt  Knaprig  Rostad  Flottig  Betyg  \\\n",
       "0 2016-09-24 11:38:24  ATG   Estrella     4        4       4        4      4   \n",
       "1 2016-09-17 00:24:13  ATG       arne     1        1       1        1      1   \n",
       "2 2016-09-17 00:23:34  ATG          A     3        5       3        6      4   \n",
       "3 2016-09-17 00:19:11  PPA          Z     6        4       5        3      5   \n",
       "4 2016-09-17 00:11:19  PSI  Hemodlade     3        6       3        6      1   \n",
       "\n",
       "  Kommentar  \n",
       "0         4  \n",
       "1      aoeu  \n",
       "2       NaN  \n",
       "3       NaN  \n",
       "4       NaN  "
      ]
     },
     "execution_count": 88,
     "metadata": {},
     "output_type": "execute_result"
    }
   ],
   "source": [
    "#letter_to_name = pd.read_csv('letter_to_name.csv')['Namn']\n",
    "letter_to_name = pd.Series({'R': 'Estrella', 'Q': 'arne', 'K': 'Fram', 'U': 'Hemodlade'})\n",
    "all_data.replace({'Nöt': letter_to_name}, inplace=True)\n",
    "all_data.head()"
   ]
  },
  {
   "cell_type": "markdown",
   "metadata": {},
   "source": [
    "## Compute scores"
   ]
  },
  {
   "cell_type": "code",
   "execution_count": 89,
   "metadata": {
    "collapsed": true
   },
   "outputs": [],
   "source": [
    "raw_scores = all_data.set_index(['TBF', 'Nöt'])['Betyg'].unstack()\n",
    "scores = raw_scores.apply(lambda row: row.where(row.notnull(), raw_scores.mean()), axis=1)\n",
    "nuts = all_data.groupby('Nöt')[PROPERTY_NAMES].mean()"
   ]
  },
  {
   "cell_type": "markdown",
   "metadata": {},
   "source": [
    "## Inspect the data"
   ]
  },
  {
   "cell_type": "code",
   "execution_count": 90,
   "metadata": {
    "collapsed": false
   },
   "outputs": [
    {
     "data": {
      "text/html": [
       "<div>\n",
       "<table border=\"1\" class=\"dataframe\">\n",
       "  <thead>\n",
       "    <tr style=\"text-align: right;\">\n",
       "      <th></th>\n",
       "      <th>Timestamp</th>\n",
       "      <th>TBF</th>\n",
       "      <th>Nöt</th>\n",
       "      <th>Salt</th>\n",
       "      <th>Knaprig</th>\n",
       "      <th>Rostad</th>\n",
       "      <th>Flottig</th>\n",
       "      <th>Betyg</th>\n",
       "      <th>Kommentar</th>\n",
       "    </tr>\n",
       "  </thead>\n",
       "  <tbody>\n",
       "    <tr>\n",
       "      <th>0</th>\n",
       "      <td>2016-09-24 11:38:24</td>\n",
       "      <td>ATG</td>\n",
       "      <td>Estrella</td>\n",
       "      <td>4</td>\n",
       "      <td>4</td>\n",
       "      <td>4</td>\n",
       "      <td>4</td>\n",
       "      <td>4</td>\n",
       "      <td>4</td>\n",
       "    </tr>\n",
       "    <tr>\n",
       "      <th>1</th>\n",
       "      <td>2016-09-17 00:24:13</td>\n",
       "      <td>ATG</td>\n",
       "      <td>arne</td>\n",
       "      <td>1</td>\n",
       "      <td>1</td>\n",
       "      <td>1</td>\n",
       "      <td>1</td>\n",
       "      <td>1</td>\n",
       "      <td>aoeu</td>\n",
       "    </tr>\n",
       "    <tr>\n",
       "      <th>2</th>\n",
       "      <td>2016-09-17 00:23:34</td>\n",
       "      <td>ATG</td>\n",
       "      <td>A</td>\n",
       "      <td>3</td>\n",
       "      <td>5</td>\n",
       "      <td>3</td>\n",
       "      <td>6</td>\n",
       "      <td>4</td>\n",
       "      <td>NaN</td>\n",
       "    </tr>\n",
       "    <tr>\n",
       "      <th>3</th>\n",
       "      <td>2016-09-17 00:19:11</td>\n",
       "      <td>PPA</td>\n",
       "      <td>Z</td>\n",
       "      <td>6</td>\n",
       "      <td>4</td>\n",
       "      <td>5</td>\n",
       "      <td>3</td>\n",
       "      <td>5</td>\n",
       "      <td>NaN</td>\n",
       "    </tr>\n",
       "    <tr>\n",
       "      <th>4</th>\n",
       "      <td>2016-09-17 00:11:19</td>\n",
       "      <td>PSI</td>\n",
       "      <td>Hemodlade</td>\n",
       "      <td>3</td>\n",
       "      <td>6</td>\n",
       "      <td>3</td>\n",
       "      <td>6</td>\n",
       "      <td>1</td>\n",
       "      <td>NaN</td>\n",
       "    </tr>\n",
       "  </tbody>\n",
       "</table>\n",
       "</div>"
      ],
      "text/plain": [
       "            Timestamp  TBF        Nöt  Salt  Knaprig  Rostad  Flottig  Betyg  \\\n",
       "0 2016-09-24 11:38:24  ATG   Estrella     4        4       4        4      4   \n",
       "1 2016-09-17 00:24:13  ATG       arne     1        1       1        1      1   \n",
       "2 2016-09-17 00:23:34  ATG          A     3        5       3        6      4   \n",
       "3 2016-09-17 00:19:11  PPA          Z     6        4       5        3      5   \n",
       "4 2016-09-17 00:11:19  PSI  Hemodlade     3        6       3        6      1   \n",
       "\n",
       "  Kommentar  \n",
       "0         4  \n",
       "1      aoeu  \n",
       "2       NaN  \n",
       "3       NaN  \n",
       "4       NaN  "
      ]
     },
     "execution_count": 90,
     "metadata": {},
     "output_type": "execute_result"
    }
   ],
   "source": [
    "all_data.head()"
   ]
  },
  {
   "cell_type": "code",
   "execution_count": 91,
   "metadata": {
    "collapsed": false
   },
   "outputs": [
    {
     "data": {
      "text/html": [
       "<div>\n",
       "<table border=\"1\" class=\"dataframe\">\n",
       "  <thead>\n",
       "    <tr style=\"text-align: right;\">\n",
       "      <th>Nöt</th>\n",
       "      <th>A</th>\n",
       "      <th>D</th>\n",
       "      <th>Estrella</th>\n",
       "      <th>Fram</th>\n",
       "      <th>G</th>\n",
       "      <th>Hemodlade</th>\n",
       "      <th>I</th>\n",
       "      <th>J</th>\n",
       "      <th>Z</th>\n",
       "      <th>arne</th>\n",
       "    </tr>\n",
       "    <tr>\n",
       "      <th>TBF</th>\n",
       "      <th></th>\n",
       "      <th></th>\n",
       "      <th></th>\n",
       "      <th></th>\n",
       "      <th></th>\n",
       "      <th></th>\n",
       "      <th></th>\n",
       "      <th></th>\n",
       "      <th></th>\n",
       "      <th></th>\n",
       "    </tr>\n",
       "  </thead>\n",
       "  <tbody>\n",
       "    <tr>\n",
       "      <th>ATG</th>\n",
       "      <td>4.0</td>\n",
       "      <td>NaN</td>\n",
       "      <td>4.0</td>\n",
       "      <td>NaN</td>\n",
       "      <td>NaN</td>\n",
       "      <td>NaN</td>\n",
       "      <td>NaN</td>\n",
       "      <td>NaN</td>\n",
       "      <td>NaN</td>\n",
       "      <td>1.0</td>\n",
       "    </tr>\n",
       "    <tr>\n",
       "      <th>PPA</th>\n",
       "      <td>NaN</td>\n",
       "      <td>NaN</td>\n",
       "      <td>NaN</td>\n",
       "      <td>NaN</td>\n",
       "      <td>NaN</td>\n",
       "      <td>NaN</td>\n",
       "      <td>NaN</td>\n",
       "      <td>NaN</td>\n",
       "      <td>5.0</td>\n",
       "      <td>NaN</td>\n",
       "    </tr>\n",
       "    <tr>\n",
       "      <th>PSI</th>\n",
       "      <td>NaN</td>\n",
       "      <td>6.0</td>\n",
       "      <td>NaN</td>\n",
       "      <td>NaN</td>\n",
       "      <td>7.0</td>\n",
       "      <td>1.0</td>\n",
       "      <td>6.0</td>\n",
       "      <td>5.0</td>\n",
       "      <td>NaN</td>\n",
       "      <td>NaN</td>\n",
       "    </tr>\n",
       "    <tr>\n",
       "      <th>VPK</th>\n",
       "      <td>NaN</td>\n",
       "      <td>5.0</td>\n",
       "      <td>NaN</td>\n",
       "      <td>NaN</td>\n",
       "      <td>NaN</td>\n",
       "      <td>NaN</td>\n",
       "      <td>NaN</td>\n",
       "      <td>NaN</td>\n",
       "      <td>NaN</td>\n",
       "      <td>NaN</td>\n",
       "    </tr>\n",
       "    <tr>\n",
       "      <th>WWW</th>\n",
       "      <td>NaN</td>\n",
       "      <td>NaN</td>\n",
       "      <td>4.0</td>\n",
       "      <td>1.0</td>\n",
       "      <td>NaN</td>\n",
       "      <td>NaN</td>\n",
       "      <td>NaN</td>\n",
       "      <td>NaN</td>\n",
       "      <td>NaN</td>\n",
       "      <td>NaN</td>\n",
       "    </tr>\n",
       "  </tbody>\n",
       "</table>\n",
       "</div>"
      ],
      "text/plain": [
       "Nöt    A    D  Estrella  Fram    G  Hemodlade    I    J    Z  arne\n",
       "TBF                                                               \n",
       "ATG  4.0  NaN       4.0   NaN  NaN        NaN  NaN  NaN  NaN   1.0\n",
       "PPA  NaN  NaN       NaN   NaN  NaN        NaN  NaN  NaN  5.0   NaN\n",
       "PSI  NaN  6.0       NaN   NaN  7.0        1.0  6.0  5.0  NaN   NaN\n",
       "VPK  NaN  5.0       NaN   NaN  NaN        NaN  NaN  NaN  NaN   NaN\n",
       "WWW  NaN  NaN       4.0   1.0  NaN        NaN  NaN  NaN  NaN   NaN"
      ]
     },
     "execution_count": 91,
     "metadata": {},
     "output_type": "execute_result"
    }
   ],
   "source": [
    "raw_scores"
   ]
  },
  {
   "cell_type": "code",
   "execution_count": 92,
   "metadata": {
    "collapsed": false
   },
   "outputs": [
    {
     "data": {
      "text/html": [
       "<div>\n",
       "<table border=\"1\" class=\"dataframe\">\n",
       "  <thead>\n",
       "    <tr style=\"text-align: right;\">\n",
       "      <th>Nöt</th>\n",
       "      <th>A</th>\n",
       "      <th>D</th>\n",
       "      <th>Estrella</th>\n",
       "      <th>Fram</th>\n",
       "      <th>G</th>\n",
       "      <th>Hemodlade</th>\n",
       "      <th>I</th>\n",
       "      <th>J</th>\n",
       "      <th>Z</th>\n",
       "      <th>arne</th>\n",
       "    </tr>\n",
       "    <tr>\n",
       "      <th>TBF</th>\n",
       "      <th></th>\n",
       "      <th></th>\n",
       "      <th></th>\n",
       "      <th></th>\n",
       "      <th></th>\n",
       "      <th></th>\n",
       "      <th></th>\n",
       "      <th></th>\n",
       "      <th></th>\n",
       "      <th></th>\n",
       "    </tr>\n",
       "  </thead>\n",
       "  <tbody>\n",
       "    <tr>\n",
       "      <th>ATG</th>\n",
       "      <td>4.0</td>\n",
       "      <td>5.5</td>\n",
       "      <td>4.0</td>\n",
       "      <td>1.0</td>\n",
       "      <td>7.0</td>\n",
       "      <td>1.0</td>\n",
       "      <td>6.0</td>\n",
       "      <td>5.0</td>\n",
       "      <td>5.0</td>\n",
       "      <td>1.0</td>\n",
       "    </tr>\n",
       "    <tr>\n",
       "      <th>PPA</th>\n",
       "      <td>4.0</td>\n",
       "      <td>5.5</td>\n",
       "      <td>4.0</td>\n",
       "      <td>1.0</td>\n",
       "      <td>7.0</td>\n",
       "      <td>1.0</td>\n",
       "      <td>6.0</td>\n",
       "      <td>5.0</td>\n",
       "      <td>5.0</td>\n",
       "      <td>1.0</td>\n",
       "    </tr>\n",
       "    <tr>\n",
       "      <th>PSI</th>\n",
       "      <td>4.0</td>\n",
       "      <td>6.0</td>\n",
       "      <td>4.0</td>\n",
       "      <td>1.0</td>\n",
       "      <td>7.0</td>\n",
       "      <td>1.0</td>\n",
       "      <td>6.0</td>\n",
       "      <td>5.0</td>\n",
       "      <td>5.0</td>\n",
       "      <td>1.0</td>\n",
       "    </tr>\n",
       "    <tr>\n",
       "      <th>VPK</th>\n",
       "      <td>4.0</td>\n",
       "      <td>5.0</td>\n",
       "      <td>4.0</td>\n",
       "      <td>1.0</td>\n",
       "      <td>7.0</td>\n",
       "      <td>1.0</td>\n",
       "      <td>6.0</td>\n",
       "      <td>5.0</td>\n",
       "      <td>5.0</td>\n",
       "      <td>1.0</td>\n",
       "    </tr>\n",
       "    <tr>\n",
       "      <th>WWW</th>\n",
       "      <td>4.0</td>\n",
       "      <td>5.5</td>\n",
       "      <td>4.0</td>\n",
       "      <td>1.0</td>\n",
       "      <td>7.0</td>\n",
       "      <td>1.0</td>\n",
       "      <td>6.0</td>\n",
       "      <td>5.0</td>\n",
       "      <td>5.0</td>\n",
       "      <td>1.0</td>\n",
       "    </tr>\n",
       "  </tbody>\n",
       "</table>\n",
       "</div>"
      ],
      "text/plain": [
       "Nöt    A    D  Estrella  Fram    G  Hemodlade    I    J    Z  arne\n",
       "TBF                                                               \n",
       "ATG  4.0  5.5       4.0   1.0  7.0        1.0  6.0  5.0  5.0   1.0\n",
       "PPA  4.0  5.5       4.0   1.0  7.0        1.0  6.0  5.0  5.0   1.0\n",
       "PSI  4.0  6.0       4.0   1.0  7.0        1.0  6.0  5.0  5.0   1.0\n",
       "VPK  4.0  5.0       4.0   1.0  7.0        1.0  6.0  5.0  5.0   1.0\n",
       "WWW  4.0  5.5       4.0   1.0  7.0        1.0  6.0  5.0  5.0   1.0"
      ]
     },
     "execution_count": 92,
     "metadata": {},
     "output_type": "execute_result"
    }
   ],
   "source": [
    "scores"
   ]
  },
  {
   "cell_type": "code",
   "execution_count": 93,
   "metadata": {
    "collapsed": false
   },
   "outputs": [
    {
     "data": {
      "text/html": [
       "<div>\n",
       "<table border=\"1\" class=\"dataframe\">\n",
       "  <thead>\n",
       "    <tr style=\"text-align: right;\">\n",
       "      <th></th>\n",
       "      <th>Salt</th>\n",
       "      <th>Rostad</th>\n",
       "      <th>Flottig</th>\n",
       "      <th>Knaprig</th>\n",
       "    </tr>\n",
       "    <tr>\n",
       "      <th>Nöt</th>\n",
       "      <th></th>\n",
       "      <th></th>\n",
       "      <th></th>\n",
       "      <th></th>\n",
       "    </tr>\n",
       "  </thead>\n",
       "  <tbody>\n",
       "    <tr>\n",
       "      <th>A</th>\n",
       "      <td>3.0</td>\n",
       "      <td>3.0</td>\n",
       "      <td>6.0</td>\n",
       "      <td>5.0</td>\n",
       "    </tr>\n",
       "    <tr>\n",
       "      <th>D</th>\n",
       "      <td>4.5</td>\n",
       "      <td>4.5</td>\n",
       "      <td>3.5</td>\n",
       "      <td>4.0</td>\n",
       "    </tr>\n",
       "    <tr>\n",
       "      <th>Estrella</th>\n",
       "      <td>3.5</td>\n",
       "      <td>3.5</td>\n",
       "      <td>3.5</td>\n",
       "      <td>3.5</td>\n",
       "    </tr>\n",
       "    <tr>\n",
       "      <th>Fram</th>\n",
       "      <td>7.0</td>\n",
       "      <td>5.0</td>\n",
       "      <td>4.0</td>\n",
       "      <td>6.0</td>\n",
       "    </tr>\n",
       "    <tr>\n",
       "      <th>G</th>\n",
       "      <td>5.0</td>\n",
       "      <td>5.0</td>\n",
       "      <td>3.0</td>\n",
       "      <td>2.0</td>\n",
       "    </tr>\n",
       "    <tr>\n",
       "      <th>Hemodlade</th>\n",
       "      <td>3.0</td>\n",
       "      <td>3.0</td>\n",
       "      <td>6.0</td>\n",
       "      <td>6.0</td>\n",
       "    </tr>\n",
       "    <tr>\n",
       "      <th>I</th>\n",
       "      <td>4.0</td>\n",
       "      <td>5.0</td>\n",
       "      <td>7.0</td>\n",
       "      <td>5.0</td>\n",
       "    </tr>\n",
       "    <tr>\n",
       "      <th>J</th>\n",
       "      <td>4.0</td>\n",
       "      <td>5.0</td>\n",
       "      <td>3.0</td>\n",
       "      <td>2.0</td>\n",
       "    </tr>\n",
       "    <tr>\n",
       "      <th>Z</th>\n",
       "      <td>6.0</td>\n",
       "      <td>5.0</td>\n",
       "      <td>3.0</td>\n",
       "      <td>4.0</td>\n",
       "    </tr>\n",
       "    <tr>\n",
       "      <th>arne</th>\n",
       "      <td>1.0</td>\n",
       "      <td>1.0</td>\n",
       "      <td>1.0</td>\n",
       "      <td>1.0</td>\n",
       "    </tr>\n",
       "  </tbody>\n",
       "</table>\n",
       "</div>"
      ],
      "text/plain": [
       "           Salt  Rostad  Flottig  Knaprig\n",
       "Nöt                                      \n",
       "A           3.0     3.0      6.0      5.0\n",
       "D           4.5     4.5      3.5      4.0\n",
       "Estrella    3.5     3.5      3.5      3.5\n",
       "Fram        7.0     5.0      4.0      6.0\n",
       "G           5.0     5.0      3.0      2.0\n",
       "Hemodlade   3.0     3.0      6.0      6.0\n",
       "I           4.0     5.0      7.0      5.0\n",
       "J           4.0     5.0      3.0      2.0\n",
       "Z           6.0     5.0      3.0      4.0\n",
       "arne        1.0     1.0      1.0      1.0"
      ]
     },
     "execution_count": 93,
     "metadata": {},
     "output_type": "execute_result"
    }
   ],
   "source": [
    "nuts"
   ]
  },
  {
   "cell_type": "code",
   "execution_count": 94,
   "metadata": {
    "collapsed": false
   },
   "outputs": [
    {
     "data": {
      "text/html": [
       "<div>\n",
       "<table border=\"1\" class=\"dataframe\">\n",
       "  <thead>\n",
       "    <tr style=\"text-align: right;\">\n",
       "      <th>Nöt</th>\n",
       "      <th>A</th>\n",
       "      <th>D</th>\n",
       "      <th>Estrella</th>\n",
       "      <th>Fram</th>\n",
       "      <th>G</th>\n",
       "      <th>Hemodlade</th>\n",
       "      <th>I</th>\n",
       "      <th>J</th>\n",
       "      <th>Z</th>\n",
       "      <th>arne</th>\n",
       "    </tr>\n",
       "    <tr>\n",
       "      <th>TBF</th>\n",
       "      <th></th>\n",
       "      <th></th>\n",
       "      <th></th>\n",
       "      <th></th>\n",
       "      <th></th>\n",
       "      <th></th>\n",
       "      <th></th>\n",
       "      <th></th>\n",
       "      <th></th>\n",
       "      <th></th>\n",
       "    </tr>\n",
       "  </thead>\n",
       "  <tbody>\n",
       "    <tr>\n",
       "      <th>ATG</th>\n",
       "      <td>4.0</td>\n",
       "      <td>5.5</td>\n",
       "      <td>4.0</td>\n",
       "      <td>1.0</td>\n",
       "      <td>7.0</td>\n",
       "      <td>1.0</td>\n",
       "      <td>6.0</td>\n",
       "      <td>5.0</td>\n",
       "      <td>5.0</td>\n",
       "      <td>1.0</td>\n",
       "    </tr>\n",
       "    <tr>\n",
       "      <th>PPA</th>\n",
       "      <td>4.0</td>\n",
       "      <td>5.5</td>\n",
       "      <td>4.0</td>\n",
       "      <td>1.0</td>\n",
       "      <td>7.0</td>\n",
       "      <td>1.0</td>\n",
       "      <td>6.0</td>\n",
       "      <td>5.0</td>\n",
       "      <td>5.0</td>\n",
       "      <td>1.0</td>\n",
       "    </tr>\n",
       "    <tr>\n",
       "      <th>PSI</th>\n",
       "      <td>4.0</td>\n",
       "      <td>6.0</td>\n",
       "      <td>4.0</td>\n",
       "      <td>1.0</td>\n",
       "      <td>7.0</td>\n",
       "      <td>1.0</td>\n",
       "      <td>6.0</td>\n",
       "      <td>5.0</td>\n",
       "      <td>5.0</td>\n",
       "      <td>1.0</td>\n",
       "    </tr>\n",
       "    <tr>\n",
       "      <th>VPK</th>\n",
       "      <td>4.0</td>\n",
       "      <td>5.0</td>\n",
       "      <td>4.0</td>\n",
       "      <td>1.0</td>\n",
       "      <td>7.0</td>\n",
       "      <td>1.0</td>\n",
       "      <td>6.0</td>\n",
       "      <td>5.0</td>\n",
       "      <td>5.0</td>\n",
       "      <td>1.0</td>\n",
       "    </tr>\n",
       "    <tr>\n",
       "      <th>WWW</th>\n",
       "      <td>4.0</td>\n",
       "      <td>5.5</td>\n",
       "      <td>4.0</td>\n",
       "      <td>1.0</td>\n",
       "      <td>7.0</td>\n",
       "      <td>1.0</td>\n",
       "      <td>6.0</td>\n",
       "      <td>5.0</td>\n",
       "      <td>5.0</td>\n",
       "      <td>1.0</td>\n",
       "    </tr>\n",
       "  </tbody>\n",
       "</table>\n",
       "</div>"
      ],
      "text/plain": [
       "Nöt    A    D  Estrella  Fram    G  Hemodlade    I    J    Z  arne\n",
       "TBF                                                               \n",
       "ATG  4.0  5.5       4.0   1.0  7.0        1.0  6.0  5.0  5.0   1.0\n",
       "PPA  4.0  5.5       4.0   1.0  7.0        1.0  6.0  5.0  5.0   1.0\n",
       "PSI  4.0  6.0       4.0   1.0  7.0        1.0  6.0  5.0  5.0   1.0\n",
       "VPK  4.0  5.0       4.0   1.0  7.0        1.0  6.0  5.0  5.0   1.0\n",
       "WWW  4.0  5.5       4.0   1.0  7.0        1.0  6.0  5.0  5.0   1.0"
      ]
     },
     "execution_count": 94,
     "metadata": {},
     "output_type": "execute_result"
    }
   ],
   "source": [
    "scores.round(2)"
   ]
  },
  {
   "cell_type": "markdown",
   "metadata": {},
   "source": [
    "## Compute principal components"
   ]
  },
  {
   "cell_type": "code",
   "execution_count": 99,
   "metadata": {
    "collapsed": false
   },
   "outputs": [],
   "source": [
    "pc_names = ['PC{}'.format(i + 1) for i in range(len(PROPERTY_NAMES))]\n",
    "pcs = pd.DataFrame(\n",
    "    sklearn.decomposition.PCA(n_components=len(PROPERTY_NAMES)).fit_transform(nuts[PROPERTY_NAMES]),\n",
    "    columns=pc_names,\n",
    "    index=nuts.index)\n",
    "for col in pcs.columns:\n",
    "    nuts[col] = pcs[col]"
   ]
  },
  {
   "cell_type": "markdown",
   "metadata": {},
   "source": [
    "## Eyeball the nut properties"
   ]
  },
  {
   "cell_type": "code",
   "execution_count": 100,
   "metadata": {
    "collapsed": false
   },
   "outputs": [
    {
     "data": {
      "image/png": "[encoded data removed]",
      "text/plain": [
       "<matplotlib.figure.Figure at 0x7fb04bac36a0>"
      ]
     },
     "metadata": {},
     "output_type": "display_data"
    }
   ],
   "source": [
    "properties = PROPERTY_NAMES\n",
    "# properties = pc_names\n",
    "plot_pairs(nuts[properties])"
   ]
  },
  {
   "cell_type": "markdown",
   "metadata": {},
   "source": [
    "## Try to find clusters of nut properties"
   ]
  },
  {
   "cell_type": "code",
   "execution_count": 101,
   "metadata": {
    "collapsed": false
   },
   "outputs": [
    {
     "data": {
      "image/png": "[encoded data removed]",
      "text/plain": [
       "<matplotlib.figure.Figure at 0x7fb04bb09cf8>"
      ]
     },
     "metadata": {},
     "output_type": "display_data"
    }
   ],
   "source": [
    "clustering_algorithm = AffinityPropagation()\n",
    "#clustering_algorithm = DBSCAN(eps=0.3, min_samples=3)\n",
    "\n",
    "clustering_algorithm.fit(nuts[properties])\n",
    "clusters = clustering_algorithm.labels_\n",
    "plot_pairs(nuts[properties], clusters=clusters)"
   ]
  },
  {
   "cell_type": "markdown",
   "metadata": {},
   "source": [
    "## Try spectral biclustering"
   ]
  },
  {
   "cell_type": "code",
   "execution_count": 102,
   "metadata": {
    "collapsed": false
   },
   "outputs": [],
   "source": [
    "num_people_clusters = 4\n",
    "num_nut_clusters = 4\n",
    "m = SpectralBiclustering(n_clusters=(num_people_clusters, num_nut_clusters))\n",
    "# m = SpectralBiclustering(n_clusters=(num_people_clusters, num_nut_clusters), method='log')\n",
    "m.fit(scores)"
   ]
  },
  {
   "cell_type": "code",
   "execution_count": 105,
   "metadata": {
    "collapsed": false
   },
   "outputs": [
    {
     "data": {
      "image/png": "[encoded data removed]",
      "text/plain": [
       "<matplotlib.figure.Figure at 0x7fb04bbce828>"
      ]
     },
     "metadata": {},
     "output_type": "display_data"
    }
   ],
   "source": [
    "plot_biclustering(scores, nut_clusters=m.column_labels_, people_clusters=m.row_labels_);"
   ]
  },
  {
   "cell_type": "code",
   "execution_count": 106,
   "metadata": {
    "collapsed": false
   },
   "outputs": [
    {
     "data": {
      "image/png": "[encoded data removed]",
      "text/plain": [
       "<matplotlib.figure.Figure at 0x7fb04ba99710>"
      ]
     },
     "metadata": {},
     "output_type": "display_data"
    }
   ],
   "source": [
    "plot_biclustering(scores.T, nut_clusters=m.row_labels_, people_clusters=m.column_labels_);"
   ]
  },
  {
   "cell_type": "code",
   "execution_count": 107,
   "metadata": {
    "collapsed": false
   },
   "outputs": [
    {
     "data": {
      "image/png": "[encoded data removed]",
      "text/plain": [
       "<matplotlib.figure.Figure at 0x7fb04bc82978>"
      ]
     },
     "metadata": {},
     "output_type": "display_data"
    }
   ],
   "source": [
    "plot_pairs(nuts[properties], clusters=m.column_labels_)"
   ]
  }
 ],
 "metadata": {
  "kernelspec": {
   "display_name": "Python 3",
   "language": "python",
   "name": "python3"
  },
  "language_info": {
   "codemirror_mode": {
    "name": "ipython",
    "version": 3
   },
   "file_extension": ".py",
   "mimetype": "text/x-python",
   "name": "python",
   "nbconvert_exporter": "python",
   "pygments_lexer": "ipython3",
   "version": "3.5.2"
  }
 },
 "nbformat": 4,
 "nbformat_minor": 1
}
